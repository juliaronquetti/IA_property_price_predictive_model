{
  "nbformat": 4,
  "nbformat_minor": 0,
  "metadata": {
    "kernelspec": {
      "display_name": "Python 3",
      "language": "python",
      "name": "python3"
    },
    "language_info": {
      "codemirror_mode": {
        "name": "ipython",
        "version": 3
      },
      "file_extension": ".py",
      "mimetype": "text/x-python",
      "name": "python",
      "nbconvert_exporter": "python",
      "pygments_lexer": "ipython3",
      "version": "3.7.4"
    },
    "colab": {
      "provenance": []
    }
  },
  "cells": [
    {
      "cell_type": "markdown",
      "metadata": {
        "id": "40b90843"
      },
      "source": [
        "<img src=\"http://meusite.mackenzie.br/rogerio/mackenzie_logo/UPM.2_horizontal_vermelho.jpg\"  width=300, align=\"right\">\n",
        "<br>\n",
        "<br>\n",
        "<br>\n",
        "<br>\n",
        "<br>\n",
        "\n",
        "# ***Projecão Imobiliária na Cidade de São Paulo: Um Modelo Preditivo de Precificação***\n",
        "---"
      ]
    },
    {
      "cell_type": "code",
      "metadata": {
        "id": "rYx9D4GZA5o9",
        "cellView": "form"
      },
      "source": [
        "#@title **Identificação do Grupo**\n",
        "\n",
        "#@markdown Integrantes do Grupo, nome completo em orgem alfabética (*informe \\<TIA\\>,\\<nome\\>*)\n",
        "Aluno1 = '32139871, Júlia Ronquetti' #@param {type:\"string\"}\n",
        "Aluno2 = 'None' #@param {type:\"string\"}\n",
        "Aluno3 = 'None' #@param {type:\"string\"}\n",
        "Aluno4 = 'None' #@param {type:\"string\"}\n",
        "Aluno5 = 'None' #@param {type:\"string\"}\n",
        "\n"
      ],
      "execution_count": null,
      "outputs": []
    },
    {
      "cell_type": "markdown",
      "source": [
        "# **Resumo (*Abstract*)**\n",
        "\n",
        "Como podemos prever com precisão o preço de um imóvel em um mercado tão variável? O projeto trata esse desafio utilizando uma abordagem que combina dados quantitativos, qualitativos de imóveis da cidade de São Paulo, coletadas por meio da técnica de *Web Scraping*. Os dados foram extraídos da plataforma OLX, sendo dados originais. A partir desses dados, diversos algoritmos de aprendizado de máquina serão testados para determinar o mais eficaz na previsão de preços."
      ],
      "metadata": {
        "id": "JlCIc2YooBW7"
      }
    },
    {
      "cell_type": "markdown",
      "metadata": {
        "id": "A4-f8AtfKAn2"
      },
      "source": [
        "# **Referencial Teórico**\n",
        "\n",
        "### Implicações Práticas e Comerciais\n",
        "  Modelos de previsão de preço de imóveis não ajudam somente compradores e vendedores nas suas situações pontuais, mas também a utilização de modelos avançados, como descritos pelo autor [Gampala et al. 2022] permite  aos investidores identificar oportunidades de compra e venda com maior precisão. Isso significa decisões de investimento mais informadas e potencialmente mais lucrativas. A precisão melhorada ajuda a prevenir riscos e maximizar retornos, tornando o investimento em imóveis uma opção mais atrativa.\n",
        "\n",
        "  Além de melhorar as decisões de investimento, segundo o   [Anand et al. 2021], governos e autoridades locais podem utilizar os *insights* gerados por esses modelos para ajustar políticas de habitação e planejamento urbano. Isso inclui a determinação de áreas prioritárias para desenvolvimento, renovação ou mesmo para a implementação de controles de preço, evitando a especulação imobiliária e promovendo a acessibilidade habitacional.\n",
        "\n",
        "### Fundamentos de Modelos Preditivos no Mercado Imobiliário\n",
        "A avaliação de preços de imóveis no Brasil é orientada pela Associação Brasileira de Normas Técnicas (ABNT) que recomenda o uso de modelos econométricos para a avaliação de propriedades urbanas (NBR 14653-2 – “Avaliação de imóveis urbanos”)  [Associacão Brasileira de Normas Técnicas (ABNT) 2011]. Os avaliadores seguem essa recomendação coletando dados de imóveis semelhantes ao objetivo, como apartamentos residenciais na mesma cidade, e evoluindo o preço com características como área, localização, número de quartos, entre outros. O modelo estimado é então usado para determinar o valor de mercado do imóvel em questão.\n",
        "\n",
        "Segundo o autor  [Marzagão et al. 2021], esse método ainda é muito utilizado, porém, é considerado falho, pois utiliza todas as amostras para ajustar a linha de regressão, sem deixar dados para testar o desempenho do modelo, o que não permite saber se os modelos criados são eficazes ou se são suposições aleatórias. Os autores argumentam que essa prática pode estabelecer grandes ineficiências no mercado, propondo em vez disso uma abordagem mais segura através de algoritmos de aprendizado de máquina, como árvores de decisão, máquinas de vetor de suporte e redes neurais, que podem descobrir padrões complexos nos dados e, potencialmente, oferecer predições mais precisas.\n",
        "\n",
        "O avanço das técnicas de aprendizado de máquina oferece novas oportunidades para aprimorar a precisão das avaliações de preços de imóveis. Os autores [Gampala et al. 2022] enfatizam a importância de testar uma variedade de modelos preditivos para avaliar qual deles apresenta melhor desempenho, destacando que algoritmos avançados, quando adequadamente treinados e validados, podem proporcionar estimativas de preços mais confiáveis. Este processo inclui a validação cruzada e a análise comparativa das métricas de desempenho, garantindo que os modelos não apenas se ajustem bem aos dados de treinamento, mas também generalizem de forma eficaz para novos dados. Com base nisso, compradores e vendedores podem tomar decisões mais informadas e estratégicas, facilitando operações mais eficientes e lucrativas no mercado imobiliário.\n",
        "\n",
        "### Web Scraping\n",
        "O web scraping, também conhecido como extração de dados da web, é a técnica de coletar e processar dados automaticamente de websites. Essa técnica utiliza scripts ou ferramentas específicas para navegar em páginas da web, identificar e extrair informações relevantes, e armazená-las em um formato estruturado, como CSV, JSON ou banco de dados.\n",
        "\n",
        "O web scraping é uma ferramenta poderosa para diversos fins, como Análise de mercado, na extração de dados sobre preços, produtos, tendências e concorrentes; pesquisa científica, na coleta de dados para estudos e análises quantitativas e qualitativas; monitoramento de websites, no rastreamento de alterações em preços, produtos ou informações; e automação de tarefas, na realização repetitiva de tarefas em websites, como downloads de arquivos ou envio de formulários.\n",
        "\n",
        "Nesse trabalho, a técnica de web scraping foi utilizada para coletar dados de anúncios de imóveis no site OLX. Esses dados serão então utilizados para construir um modelo preditivo de preços de imóveis utilizando uma das técnicas de aprendizado de máquina mencionadas anteriormente. O modelo será avaliado em um conjunto de dados de validação para verificar sua precisão e generalização.\n",
        "\n",
        "### Modelos de Machine Learning\n",
        "\n",
        "A avaliação de imóveis é uma prática essencial no mercado imobiliário, sendo tradicionalmente realizada por meio de modelos de regressão linear. No entanto, essa abordagem tem se mostrado limitada e ineficiente devido à falta de testes de performance preditiva e à necessidade de hipóteses sobre a forma funcional do modelo [Marzagão et al., 2021]. Assim, o uso de algoritmos de aprendizado de máquina (*machine learning*) surge como uma alternativa promissora para melhorar a precisão e a eficiência das avaliações imobiliárias.\n",
        "\n",
        "O estudo critica a dependência excessiva na regressão linear, destacando vários pontos fracos dessa abordagem. Primeiro, os modelos de regressão linear não são testados com dados separados, o que pode resultar em previsões pouco confiáveis [Marzagão et al., 2021]. Além disso, esses modelos exigem a especificação prévia de uma forma funcional, o que é inadequado devido à complexidade das interações entre as variáveis no mercado imobiliário [Marzagão et al., 2021]. Outro problema é o potencial de overfitting, onde um alto valor de R² pode não refletir um bom desempenho preditivo em novos dados [Marzagão et al., 2021]."
      ]
    },
    {
      "cell_type": "markdown",
      "source": [
        "# **Exemplo de Aplicação**\n",
        "\n",
        "Uma possível aplicação seria criar uma ferramenta que permita a estimativa de preços de imóveis com maior precisão ao integrar diversas características relevantes dos imóveis mais recentes. Este projeto aborda a aplicação de técnicas de aprendizado de máquina para analisar e prever preços com base em variáveis como localização, área útil, número de quartos, banheiros, entre outros.\n",
        "\n",
        "Neste contexto, um problema específico que será resolvido é a integração e a análise dos dados coletados através de web scraping da OLX. Utilizaremos técnicas de machine learning, como regressão linear e árvores de decisão, para construir e avaliar modelos preditivos que consigam capturar as tendências do mercado imobiliário com base nos dados coletados. A metodologia envolve a coleta e pré-processamento dos dados, a seleção e extração de features relevantes, o treinamento de modelos preditivos e a avaliação de sua performance.\n",
        "\n",
        "É esperado um resultado relevante, e se esse não se mostrar eficaz, vale o estudo para entender como melhorar no futuro."
      ],
      "metadata": {
        "id": "4wfTEdMMxqFK"
      }
    },
    {
      "cell_type": "markdown",
      "source": [
        "# **Implementação**\n"
      ],
      "metadata": {
        "id": "FyFHbT8vygVp"
      }
    },
    {
      "cell_type": "markdown",
      "source": [
        "O Web Scraping foi utilizado na plataforma OLX, porém não foi possível rodar aqui no colab, apenas no VS Code por conta de algumas bibliotecas que são utilizadas.\n",
        "Segue o código abaixo:"
      ],
      "metadata": {
        "id": "lybnd-8X8lrZ"
      }
    },
    {
      "cell_type": "markdown",
      "source": [
        "## Web Scraping"
      ],
      "metadata": {
        "id": "XebMm12gAwQb"
      }
    },
    {
      "cell_type": "markdown",
      "source": [
        "Importa bibliotecas necessárias"
      ],
      "metadata": {
        "id": "FQKb_qdq-C7S"
      }
    },
    {
      "cell_type": "code",
      "source": [
        "import json\n",
        "from selenium import webdriver\n",
        "from selenium.webdriver.chrome.service import Service\n",
        "import time\n",
        "from bs4 import BeautifulSoup\n",
        "import pandas as pd\n",
        "import time\n",
        "import json\n",
        "import re\n",
        "import warnings\n",
        "warnings.filterwarnings('ignore')\n",
        "import datetime\n",
        "import math\n",
        "pd.set_option('display.max_columns', 100)"
      ],
      "metadata": {
        "id": "nHZfrbYi9jI_"
      },
      "execution_count": null,
      "outputs": []
    },
    {
      "cell_type": "markdown",
      "source": [
        "Configura e inicializa o navegador, obtém o HTML da página e converte para BeautifulSoup"
      ],
      "metadata": {
        "id": "xnBzwEec_IbL"
      }
    },
    {
      "cell_type": "code",
      "source": [
        "def web_scrapping(url):\n",
        "    chrome_service = Service(executable_path=r\"./chromedriver.exe\", log_path='NUL')\n",
        "    chrome_options = webdriver.ChromeOptions()\n",
        "\n",
        "    # opções para ignorar erros de certificado\n",
        "    chrome_options.add_argument('--ignore-certificate-errors')\n",
        "    chrome_options.add_argument('--allow-running-insecure-content')\n",
        "\n",
        "    driver = webdriver.Chrome(service=chrome_service, options=chrome_options)\n",
        "    driver.get(url)\n",
        "    time.sleep(0.1)\n",
        "    page_source = driver.page_source\n",
        "    driver.quit()\n",
        "    soup = BeautifulSoup(page_source, \"html.parser\")\n",
        "    return soup\n"
      ],
      "metadata": {
        "id": "47WSkdIDxpjM"
      },
      "execution_count": null,
      "outputs": []
    },
    {
      "cell_type": "markdown",
      "source": [
        "Extrai dados JSON do HTML"
      ],
      "metadata": {
        "id": "JgIxx5Qq_XS4"
      }
    },
    {
      "cell_type": "code",
      "source": [
        "def pegaJson(soup):\n",
        "    # Encontrar o script com o ID '__NEXT_DATA__'\n",
        "    next_data_script = soup.find('script', id='__NEXT_DATA__')\n",
        "\n",
        "    # Verificar se o script foi encontrado\n",
        "    if next_data_script:\n",
        "        # Carregar o JSON contido no script\n",
        "        json_data = json.loads(next_data_script.string)\n",
        "        return json_data\n",
        "\n",
        "    return None"
      ],
      "metadata": {
        "id": "77g05PUv_aiS"
      },
      "execution_count": null,
      "outputs": []
    },
    {
      "cell_type": "markdown",
      "source": [
        "Verifica e processa o HTML, extrai e estrutura os dados. Por mim, inclui em um dataframe"
      ],
      "metadata": {
        "id": "pA9F__uD_eLc"
      }
    },
    {
      "cell_type": "code",
      "source": [
        "def dataframe(soup):\n",
        "    if soup:\n",
        "        # Encontrar a tag <script> e extrair o JSON diretamente como um objeto Python\n",
        "        data = pegaJson(soup)  # Agora 'data' já é um objeto Python (dict) retornado por 'pegaJson'\n",
        "        if data:\n",
        "            # Acessar os anúncios diretamente do objeto Python\n",
        "            ads = data['props']['pageProps']['ads']\n",
        "            dados_imoveis = []\n",
        "            for imovel in ads:\n",
        "                dados_imovel = {\n",
        "                    \"title\": imovel.get(\"title\", \"Sem título\"),\n",
        "                    \"price\": imovel.get(\"price\", \"Sem Preço\"),\n",
        "                    \"URL\" : imovel.get(\"url\", \"Sem URL\"),\n",
        "                    \"oldPrice\": imovel.get(\"oldPrice\", \"Sem Preço\"),\n",
        "                    \"location\": imovel.get(\"location\", \"Sem localização\"),\n",
        "                    \"date\" : imovel.get(\"date\", 0),\n",
        "                    \"imagem inicial\" : imovel.get(\"thumbnail\", \"Sem imagem\"),\n",
        "                    \"images\": [img['original'] for img in imovel.get(\"images\", [])],\n",
        "                    \"destaque\" : imovel.get(\"isFeatured\", \"Sem informação\"),\n",
        "                }\n",
        "                if 'properties' in imovel:\n",
        "                    for prop in imovel[\"properties\"]:\n",
        "                        if prop[\"label\"] == \"Categoria\":\n",
        "                            dados_imovel[\"Categoria\"] = prop.get(\"value\", \"Não informado\")\n",
        "\n",
        "                        elif prop[\"label\"] == \"Tipo\":\n",
        "                            dados_imovel[\"Tipo\"] = prop.get(\"value\", \"Não informado\")\n",
        "\n",
        "                        elif prop[\"label\"] == \"Condomínio\":\n",
        "                            dados_imovel[\"Condomínio\"] = prop.get(\"value\", \"Não informado\")\n",
        "\n",
        "                        elif prop[\"label\"] == \"IPTU\":\n",
        "                            dados_imovel[\"IPTU\"] = prop.get(\"value\", \"Não informado\")\n",
        "\n",
        "                        elif prop[\"label\"] == \"Área construída\":\n",
        "                            dados_imovel[\"Área construída\"] = prop.get(\"value\", \"Não informado\")\n",
        "\n",
        "                        elif prop[\"label\"] == \"Área útil\":\n",
        "                            dados_imovel[\"Área útil\"] = prop.get(\"value\", \"Não informado\")\n",
        "\n",
        "                        elif prop[\"label\"] == \"Quartos\":\n",
        "                            dados_imovel[\"Quartos\"] = prop.get(\"value\", \"Não informado\")\n",
        "\n",
        "                        elif prop[\"label\"] == \"Banheiros\":\n",
        "                            dados_imovel[\"Banheiros\"] = prop.get(\"value\", \"Não informado\")\n",
        "\n",
        "                        elif prop[\"label\"] == \"Vagas na garagem\":\n",
        "                            dados_imovel[\"Vagas na garagem\"] = prop.get(\"value\", \"Não informado\")\n",
        "\n",
        "                        elif prop[\"label\"] == \"Detalhes do imóvel\":\n",
        "                            dados_imovel[\"Detalhes do imóvel\"] = prop.get(\"value\", \"Não informado\")\n",
        "\n",
        "                        elif prop[\"label\"] == \"Detalhes do condomínio\":\n",
        "                            dados_imovel[\"Detalhes do condomínio\"] = prop.get(\"value\", \"Não informado\")\n",
        "\n",
        "                dados_imoveis.append(dados_imovel)\n",
        "            df = pd.DataFrame(dados_imoveis)\n",
        "            return df\n",
        "        else:\n",
        "            print(\"Não foi possível encontrar a tag <script> com o ID '__NEXT_DATA__'.\")\n",
        "    else:\n",
        "        print(\"Não foi possível fazer o scraping da página.\")\n"
      ],
      "metadata": {
        "id": "UZLIKsRu_p2r"
      },
      "execution_count": null,
      "outputs": []
    },
    {
      "cell_type": "markdown",
      "source": [
        "Coleta dados de múltiplas páginas e concatena os dataframes"
      ],
      "metadata": {
        "id": "v4nbW8GP_0i1"
      }
    },
    {
      "cell_type": "code",
      "source": [
        "dfs = []\n",
        "for page in range(1, 100):\n",
        "    #Zona Oeste\n",
        "    soup_zo = web_scrapping(f\"https://www.olx.com.br/imoveis/venda/estado-sp/sao-paulo-e-regiao/zona-oeste?o={page}\")\n",
        "    df_zo = dataframe(soup_zo)\n",
        "    df_zo['ZONA'] = 'OESTE'\n",
        "    dfs.append(df_zo)\n",
        "\n",
        "    #Zona Leste\n",
        "    soup_zl = web_scrapping(f\"https://www.olx.com.br/imoveis/venda/estado-sp/sao-paulo-e-regiao/zona-leste?o={page}\")\n",
        "    df_zl = dataframe(soup_zl)\n",
        "    df_zl['ZONA'] = 'LESTE'\n",
        "    dfs.append(df_zl)\n",
        "\n",
        "    #Zona Sul\n",
        "    soup_zs = web_scrapping(f\"https://www.olx.com.br/imoveis/venda/estado-sp/sao-paulo-e-regiao/zona-sul?o={page}\")\n",
        "    df_zs = dataframe(soup_zs)\n",
        "    df_zs['ZONA'] = 'SUL'\n",
        "    dfs.append(df_zs)\n",
        "\n",
        "    #Zona Norte\n",
        "    soup_zn = web_scrapping(f\"https://www.olx.com.br/imoveis/venda/estado-sp/sao-paulo-e-regiao/zona-norte?o={page}\")\n",
        "    df_zn = dataframe(soup_zn)\n",
        "    df_zn['ZONA'] = 'NORTE'\n",
        "    dfs.append(df_zn)\n",
        "\n",
        "    #Zona Centro\n",
        "    soup_zc = web_scrapping(f\"https://www.olx.com.br/imoveis/venda/estado-sp/sao-paulo-e-regiao/centro?o={page}\")\n",
        "    df_zc = dataframe(soup_zc)\n",
        "    df_zc['ZONA'] = 'CENTRO'\n",
        "    dfs.append(df_zc)\n",
        "\n",
        "df = pd.concat(dfs, ignore_index=True)"
      ],
      "metadata": {
        "id": "TSLw4enG_4Ln"
      },
      "execution_count": null,
      "outputs": []
    },
    {
      "cell_type": "markdown",
      "source": [
        "Tratamentos no dataframe"
      ],
      "metadata": {
        "id": "BbKAIqRyAOFH"
      }
    },
    {
      "cell_type": "code",
      "source": [
        "# Convertendo a coluna 'images' que contém listas em strings\n",
        "df['images'] = df['images'].apply(lambda x: str(x))\n",
        "# Convertendo de volta para lista\n",
        "# df['images'] = df['images'].apply(ast.literal_eval)\n",
        "df_tratamentos = df.drop_duplicates()\n",
        "df_tratamentos['date'] = df_tratamentos['date'].apply(lambda x: datetime.datetime.fromtimestamp(x, tz=datetime.timezone.utc).strftime('%d/%m/%Y'))\n",
        "df_tratamentos['price'] = df_tratamentos['price'].replace({'R\\$ ': '', '\\.': ''}, regex=True)\n",
        "df_tratamentos['oldPrice'] = df_tratamentos['oldPrice'].replace({'R\\$ ': '', '\\.': ''}, regex=True)\n",
        "df_tratamentos['IPTU'] = df_tratamentos['IPTU'].replace({'R\\$ ': '', '\\.': ''}, regex=True)\n",
        "df_tratamentos['Condomínio'] = df_tratamentos['Condomínio'].replace({'R\\$ ': '', '\\.': ''}, regex=True)\n",
        "df_tratamentos['Área útil'].fillna(df_tratamentos['Área construída'], inplace=True)\n",
        "df_tratamentos['Vagas na garagem'].fillna(0, inplace=True)\n",
        "df_tratamentos.drop('Área construída', axis = 1, inplace=True)\n",
        "\n",
        "df_tratamentos = df_tratamentos[(~df_tratamentos.price.isna())].reset_index(drop=True)\n",
        "df_tratamentos = df_tratamentos[(~df_tratamentos['Área útil'].isna())].reset_index(drop=True)\n",
        "\n",
        "df_tratamentos['Área útil'] = df_tratamentos['Área útil'].str.extract('(\\d+)', expand=False)\n",
        "\n",
        "imovel = df_tratamentos['Detalhes do imóvel'].str.split(',').explode().str.strip()\n",
        "imovel = imovel.drop_duplicates().tolist()\n",
        "imovel = [valor for valor in imovel if valor != \"nan\" and not (isinstance(valor, float) and math.isnan(valor))]\n",
        "\n",
        "condominio = df_tratamentos['Detalhes do condomínio'].str.split(',').explode().str.strip()\n",
        "condominio = condominio.drop_duplicates().tolist()\n",
        "condominio = [valor for valor in condominio if valor != \"nan\" and not (isinstance(valor, float) and math.isnan(valor))]\n",
        "\n",
        "def verificar_palavra(det, palavra):\n",
        "    if pd.isnull(det) or not isinstance(det, str):\n",
        "        return 0\n",
        "    else:\n",
        "        return 1 if palavra in det.split(', ') else 0\n",
        "\n",
        "for palavra in condominio:\n",
        "    df_tratamentos[palavra] = df_tratamentos['Detalhes do condomínio'].apply(lambda x: verificar_palavra(x, palavra))\n",
        "\n",
        "for palavra in imovel:\n",
        "    df_tratamentos[palavra] = df_tratamentos['Detalhes do imóvel'].apply(lambda x: verificar_palavra(x, palavra))\n",
        "\n",
        "#Bairro\n",
        "df_tratamentos['bairro'] = df_tratamentos['location'].str.split(', ').str[1]\n",
        "df_tratamentos['bairro'] = df_tratamentos['bairro'].str.replace(r\"\\s*\\(.*\\)\", \"\", regex=True)\n",
        "\n"
      ],
      "metadata": {
        "id": "byiVR6P1ASkf"
      },
      "execution_count": null,
      "outputs": []
    },
    {
      "cell_type": "markdown",
      "source": [
        "## Alguns outros tratamentos e modelos\n"
      ],
      "metadata": {
        "id": "QyP2aFCoA7ZU"
      }
    },
    {
      "cell_type": "markdown",
      "source": [
        "Como não foi possível rodar no colab, importa o dataframe"
      ],
      "metadata": {
        "id": "0EJ5YhImAbkt"
      }
    },
    {
      "cell_type": "code",
      "source": [
        "from google.colab import drive\n",
        "drive.mount('/content/drive')\n",
        "import pandas as pd\n",
        "import numpy as np\n",
        "pd.set_option('display.max_columns', 100)\n",
        "import warnings\n",
        "warnings.filterwarnings('ignore')\n",
        "import os\n",
        "import matplotlib.pyplot as plt\n",
        "import gdown\n",
        "import requests\n",
        "\n",
        "\n",
        "from sklearn.model_selection import train_test_split, cross_val_score\n",
        "from sklearn.linear_model import LinearRegression, Ridge, Lasso\n",
        "from sklearn.tree import DecisionTreeRegressor\n",
        "from sklearn.ensemble import RandomForestRegressor, GradientBoostingRegressor\n",
        "from sklearn.svm import SVR\n",
        "from sklearn.neighbors import KNeighborsRegressor\n",
        "from sklearn.metrics import mean_squared_error, mean_absolute_error, r2_score"
      ],
      "metadata": {
        "colab": {
          "base_uri": "https://localhost:8080/"
        },
        "id": "MvOAa8mCAl0o",
        "outputId": "e4ce5b68-1552-4e73-e7e3-01d69f691264"
      },
      "execution_count": 1,
      "outputs": [
        {
          "output_type": "stream",
          "name": "stdout",
          "text": [
            "Mounted at /content/drive\n"
          ]
        }
      ]
    },
    {
      "cell_type": "code",
      "source": [
        "file_path = '/content/drive/MyDrive/IA Modelo preditivo/Dataframe_25_04.csv'\n",
        "df = pd.read_csv(file_path, encoding = 'utf-8', sep=';')"
      ],
      "metadata": {
        "id": "8yKyEOEaBWLE"
      },
      "execution_count": 2,
      "outputs": []
    },
    {
      "cell_type": "markdown",
      "source": [
        "Não deu certo ler direto de um arquivo publico no drive, portanto o link do dataframe está aqui: https://drive.google.com/file/d/19llLrQtT5EJTYWRskRA-JUf1EAjJ7dbB/view?usp=sharing"
      ],
      "metadata": {
        "id": "cONKjdYFS7JG"
      }
    },
    {
      "cell_type": "code",
      "source": [
        "# url = 'https://drive.google.com/file/d/19llLrQtT5EJTYWRskRA-JUf1EAjJ7dbB/view?usp=sharing'\n",
        "# r = requests.get(url, allow_redirects=True)\n",
        "\n",
        "# # Salve o arquivo\n",
        "# open('Dataframe_25_04.csv', 'wb').write(r.content)\n",
        "\n",
        "# # Carregue o DataFrame\n",
        "# df = pd.read_csv('Dataframe_25_04.csv', encoding='utf-8', sep=';')"
      ],
      "metadata": {
        "id": "CcWKMTAZRU9X",
        "collapsed": true
      },
      "execution_count": null,
      "outputs": []
    },
    {
      "cell_type": "markdown",
      "source": [
        "Realiza mais alguns tratamentos que foram necessários"
      ],
      "metadata": {
        "id": "Mh-IJnhxBcJg"
      }
    },
    {
      "cell_type": "code",
      "source": [
        "campos_numericos = ['Condomínio', 'Área útil', 'Quartos', 'Banheiros', 'Vagas na garagem',\n",
        "        'IPTU', 'Academia', 'Elevador', 'Permitido animais', 'Piscina', 'Portaria',\n",
        "       'Salão de festas', 'Condomínio fechado', 'Segurança 24h',\n",
        "       'Portão eletrônico', 'Área murada', 'Área de serviço',\n",
        "       'Armários na cozinha', 'Armários no quarto', 'Churrasqueira',\n",
        "       'Mobiliado', 'Quarto de serviço', 'Ar condicionado', 'Porteiro 24h',\n",
        "       'Varanda']\n",
        "\n",
        "#Ajustar o 5 ou mais nos campos: Quartos, Banheiros, Vagas na garagem\n",
        "df['Quartos'] = np.where(df['Quartos'] == '5 ou mais', 5, df['Quartos'])\n",
        "df['Banheiros'] = np.where(df['Banheiros'] == '5 ou mais', 5, df['Banheiros'])\n",
        "df['Vagas na garagem'] = np.where(df['Vagas na garagem'] == '5 ou mais', 5, df['Vagas na garagem'])\n",
        "\n",
        "#Fillna (0) nos campos numericos e transformar atributos object em int\n",
        "df[campos_numericos] = df[campos_numericos].fillna(0).astype('int64')\n",
        "#Ver o que fazer com os atributos de string\n"
      ],
      "metadata": {
        "id": "rzzDeJE1BfYD"
      },
      "execution_count": 3,
      "outputs": []
    },
    {
      "cell_type": "markdown",
      "source": [
        "Seleciona colunas que serão usadas no modelo, realiza o one-hot encoding e separa a base em treinamento e teste"
      ],
      "metadata": {
        "id": "DAmBX9yLBlKf"
      }
    },
    {
      "cell_type": "code",
      "source": [
        "df_model = df[['price', 'Categoria', 'Tipo', 'destaque',\n",
        "       'Condomínio', 'Área útil', 'Quartos', 'Banheiros', 'Vagas na garagem',\n",
        "       'IPTU', 'ZONA',\n",
        "       'Academia', 'Elevador', 'Permitido animais', 'Piscina', 'Portaria',\n",
        "       'Salão de festas', 'Condomínio fechado', 'Segurança 24h',\n",
        "       'Portão eletrônico', 'Área murada', 'Área de serviço',\n",
        "       'Armários na cozinha', 'Armários no quarto', 'Churrasqueira',\n",
        "       'Mobiliado', 'Quarto de serviço', 'Ar condicionado', 'Porteiro 24h',\n",
        "       'Varanda', 'bairro']]\n",
        "\n",
        "df_model = pd.get_dummies(df_model, columns=['Categoria', 'Tipo', 'ZONA', 'bairro'], drop_first=True)\n",
        "X = df_model.drop('price', axis = 1)\n",
        "y = df_model.price\n",
        "X_train, X_test, Y_train, Y_test = train_test_split(X, y, test_size=0.25, random_state=123)"
      ],
      "metadata": {
        "id": "mkErLvpfBkDC"
      },
      "execution_count": 4,
      "outputs": []
    },
    {
      "cell_type": "markdown",
      "source": [
        "Treina diversos modelos e compara algumas métricas de avaliação"
      ],
      "metadata": {
        "id": "4gchgoqlCMde"
      }
    },
    {
      "cell_type": "code",
      "source": [
        "modelos = {\n",
        "    'Linear Regression': LinearRegression(),\n",
        "    'Ridge Regression': Ridge(),\n",
        "    'Lasso Regression': Lasso(),\n",
        "    'Decision Tree': DecisionTreeRegressor(),\n",
        "    'Random Forest': RandomForestRegressor(),\n",
        "    'Gradient Boosting': GradientBoostingRegressor(),\n",
        "    'Support Vector Regressor': SVR(),\n",
        "    'K-Nearest Neighbors': KNeighborsRegressor()\n",
        "}\n",
        "\n",
        "# Avaliar cada modelo\n",
        "resultados = {}\n",
        "for nome, modelo in modelos.items():\n",
        "    modelo.fit(X_train, Y_train)\n",
        "    y_pred = modelo.predict(X_test)\n",
        "    mse = mean_squared_error(Y_test, y_pred)\n",
        "    mae = mean_absolute_error(Y_test, y_pred)\n",
        "    r2 = r2_score(Y_test, y_pred)\n",
        "    resultados[nome] = {'MSE': mse, 'MAE': mae, 'R²': r2}\n",
        "\n",
        "# Exibir os resultados\n",
        "resultados_df = pd.DataFrame(resultados).T\n",
        "print(resultados_df)"
      ],
      "metadata": {
        "colab": {
          "base_uri": "https://localhost:8080/"
        },
        "id": "OYgmNINdCVQE",
        "outputId": "69e7f5f6-00ad-43a1-bc4e-b459dc5ca580"
      },
      "execution_count": null,
      "outputs": [
        {
          "output_type": "stream",
          "name": "stdout",
          "text": [
            "                                   MSE            MAE        R²\n",
            "Linear Regression         1.571225e+12  601451.958935  0.527870\n",
            "Ridge Regression          1.573476e+12  598216.613699  0.527194\n",
            "Lasso Regression          1.570121e+12  600876.543281  0.528202\n",
            "Decision Tree             1.153384e+12  340805.202673  0.653425\n",
            "Random Forest             6.968856e+11  275396.454885  0.790596\n",
            "Gradient Boosting         8.949052e+11  410264.869885  0.731094\n",
            "Support Vector Regressor  3.577487e+12  876796.178874 -0.074981\n",
            "K-Nearest Neighbors       1.265267e+12  422158.295853  0.619806\n"
          ]
        }
      ]
    },
    {
      "cell_type": "markdown",
      "source": [
        "O **Random Forest** apresenta o menor MSE e MAE, além de ter o maior valor de R², o que indica que é o modelo que melhor se ajusta aos dados e fornece as previsões mais precisas.\n",
        "\n",
        "Já o **Support Vector Regressor** apresenta o maior MSE e MAE, além de ter o menor valor de R², indicando que é o modelo que pior se ajusta aos dados e fornece as previsões menos precisas."
      ],
      "metadata": {
        "id": "2N708egQDu6B"
      }
    },
    {
      "cell_type": "markdown",
      "source": [
        "# **Uma ideia de Projeto de Aplicação**\n",
        "\n",
        "Com a crescente disponibilidade de dados e o avanço das tecnologias de aprendizado de máquina, há uma oportunidade de desenvolver um sistema automatizado e atualizado frequentemente que possa fornecer avaliações de preços mais precisas e consistentes, ajudando a mitigar a subjetividade e as variações.\n",
        "\n",
        "Uma ideia de projeto seria dsenvolver um sistema inteligente de avaliação de preços de imóveis que utilize uma combinação de dados quantitativos e qualitativos. Este sistema empregará técnicas de aprendizado de máquina para analisar dados coletados de várias fontes, como sites de anúncios de imóveis, registros públicos e dados socioeconômicos. Esse modelo poderá ser disponibilizado também pelos próprios sites de divulgação de imóveis.\n",
        "\n",
        "Este sistema automatizado de avaliação de preços de imóveis pode trazer maior transparência e eficiência ao mercado imobiliário, fornecendo estimativas de preços mais precisas e baseadas em dados objetivos. Isso pode ajudar compradores a tomar decisões informadas e vendedores a definir preços competitivos, contribuindo para um mercado mais justo e equilibrado.\n"
      ],
      "metadata": {
        "id": "vuisqDoJ0oTB"
      }
    },
    {
      "cell_type": "markdown",
      "source": [
        "# **Referências**\n",
        "\n",
        "Associacão Brasileira de Normas Técnicas (ABNT) (2011). Avaliacão de bens\n",
        "parte 2: Imóveis urbanos. Norma Técnica NBR 14653-2. Disponível em:\n",
        "https://www.prefeitura.sp.gov.br/cidade/secretarias/upload/infraestrutura/arquivos/ACESSO\n",
        "\n",
        "Marzagão, T., Ferreira, R., and Sales, L. (2021). A note on real estate appraisal in brazil.\n",
        "Revista Brasileira de Economia, 75(1):29–36.\n",
        "\n",
        "Gampala, V., Sai, N. Y., and Sai Bhavya, T. N. (2022). Real-estate price prediction sys-\n",
        "tem using machine learning. In 2022 International Conference on Applied Artificial\n",
        "Intelligence and Computing (ICAAIC), pages 533–538\n",
        "\n",
        "S. P. Sreeja, V. Asha, B. Saju, N. CP, P. O. Prakash and A. K. Singh, \"Real Estate Price Prediction using Machine Learning,\" 2023 Third International Conference on Advances in Electrical, Computing, Communication and Sustainable Technologies (ICAECT), Bhilai, India, 2023, pp. 1-7, doi: 10.1109/ICAECT57570.2023.10117910.\n",
        "\n",
        "\n"
      ],
      "metadata": {
        "id": "7LtXrRFr4hg3"
      }
    },
    {
      "cell_type": "markdown",
      "source": [
        "# **Vídeo e GitHub**\n",
        "\n",
        "https://youtu.be/hCQDEaEz62U"
      ],
      "metadata": {
        "id": "ZGpU-v6CnTaG"
      }
    },
    {
      "cell_type": "markdown",
      "metadata": {
        "id": "9kwoGZeSLRsX"
      },
      "source": [
        "# **Conclusão**\n",
        "\n",
        "Este projeto de desenvolvimento de um sistema de avaliação de preços de imóveis apresenta uma abordagem baseada em dados originais para enfrentar um problema relevante e atual no mercado imobiliário. Utilizando técnicas de aprendizado de máquina o sistema proposto visa fornecer estimativas de preços consistentes, mitigando a subjetividade e a variação inerentes aos métodos tradicionais.\n",
        "\n",
        "Porém o modelo chegou em um resultado de R2 de 79% e com um MAE de 275396.45 reais usando o algoritmo Random Forest. Acredito que ainda conseguimos melhorar esse resultado. E um possível avanço para um resultado melhor poderia ser a utilização de imagens desses imóveis. No futuro, uma extensão promissora deste trabalho é a inclusão de imagens dos imóveis no modelo preditivo. Utilizando técnicas de visão computacional e deep learning, como redes neurais convolucionais (CNNs), será possível extrair características visuais significativas das imagens dos imóveis que impactam diretamente seu valor de mercado. A integração dessas características visuais com os dados quantitativos e qualitativos poderá aprimorar ainda mais a precisão das previsões, oferecendo um sistema de avaliação de preços ainda mais robusto e confiável.\n",
        "\n",
        "O autor [Marzagão et al., 2021] realizou um projeto similar e treinou diversos tipos de algoritmos, o que o obteve melhor MAE, 35,463.24 reais, foi o mesmo que o meu, o Random Forest. Portanto, será interessante analizar como diminuir o MAE que alcancei.\n",
        "O algoritmo que obteve pior eficacia foi o de regressão linear com um MAE de R$58,733.80.\n",
        "\n",
        "\n",
        "![image.png](data:image/png;base64,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)\n",
        "\n"
      ]
    },
    {
      "cell_type": "markdown",
      "source": [
        "# **Apêndice**\n",
        "\n",
        "Link da Apresentação no YouTube:\n"
      ],
      "metadata": {
        "id": "EHohsrFbpksT"
      }
    },
    {
      "cell_type": "code",
      "source": [
        "from IPython.display import YouTubeVideo\n",
        "YouTubeVideo('hCQDEaEz62U')\n",
        "#https://youtu.be/hCQDEaEz62U"
      ],
      "metadata": {
        "id": "LqJACWuip3YG",
        "outputId": "4554c16c-322f-40c5-e639-863a308e8fc4",
        "colab": {
          "base_uri": "https://localhost:8080/",
          "height": 321
        }
      },
      "execution_count": 9,
      "outputs": [
        {
          "output_type": "execute_result",
          "data": {
            "text/plain": [
              "<IPython.lib.display.YouTubeVideo at 0x7c67d080e6b0>"
            ],
            "text/html": [
              "\n",
              "        <iframe\n",
              "            width=\"400\"\n",
              "            height=\"300\"\n",
              "            src=\"https://www.youtube.com/embed/hCQDEaEz62U\"\n",
              "            frameborder=\"0\"\n",
              "            allowfullscreen\n",
              "            \n",
              "        ></iframe>\n",
              "        "
            ],
            "image/jpeg": "[encoded data removed]"
          },
          "metadata": {},
          "execution_count": 9
        }
      ]
    },
    {
      "cell_type": "markdown",
      "metadata": {
        "id": "8crUBC3IQ3U_"
      },
      "source": [
        "---"
      ]
    },
    {
      "cell_type": "code",
      "metadata": {
        "id": "BluFtfHuCGzm",
        "cellView": "form"
      },
      "source": [
        "#@title **Avaliação**\n",
        "Referencial_Teorico = 4 #@param {type:\"slider\", min:0, max:10, step:1}\n",
        "\n",
        "Conceitos_Chave = 9 #@param {type:\"slider\", min:0, max:10, step:1}\n",
        "\n",
        "Exemplo_Aplicacao = 6 #@param {type:\"slider\", min:0, max:10, step:1}\n",
        "\n",
        "Ideia_Projeto = 7 #@param {type:\"slider\", min:0, max:10, step:1}\n",
        "\n",
        "Conclusao = 7 #@param {type:\"slider\", min:0, max:10, step:1}\n",
        "\n",
        "\n",
        "\n",
        "\n",
        "\n",
        "\n"
      ],
      "execution_count": null,
      "outputs": []
    },
    {
      "cell_type": "code",
      "metadata": {
        "colab": {
          "base_uri": "https://localhost:8080/",
          "height": 125
        },
        "id": "2Gqw7hUZHyle",
        "cellView": "form",
        "outputId": "b73351c5-a7bb-41c1-b512-98e02e1e3bbe"
      },
      "source": [
        "#@title **Nota Final**\n",
        "nota = Referencial_Teorico + Conceitos_Chave + 2*Exemplo_Aplicacao + 2*Ideia_Projeto + Conclusao\n",
        "\n",
        "nota = nota / 7\n",
        "\n",
        "print(f'Nota final do trabalho {nota :.1f}')\n",
        "\n",
        "import numpy as np\n",
        "import pandas as pd\n",
        "\n",
        "alunos = pd.DataFrame()\n",
        "\n",
        "lista_tia = []\n",
        "lista_nome = []\n",
        "\n",
        "for i in range(1,6):\n",
        "  exec(\"if Aluno\" + str(i) + \" !='None':  lista = Aluno\" + str(i) + \".split(','); lista_tia.append(lista[0]); lista_nome.append(lista[1].upper())\")\n",
        "\n",
        "alunos['tia'] = lista_tia\n",
        "alunos['nome'] = lista_nome\n",
        "alunos['nota'] = np.round(nota,1)\n",
        "print()\n",
        "display(alunos)"
      ],
      "execution_count": null,
      "outputs": [
        {
          "output_type": "stream",
          "name": "stdout",
          "text": [
            "Nota final do trabalho 7.4\n",
            "\n"
          ]
        },
        {
          "output_type": "display_data",
          "data": {
            "text/plain": [
              "        tia              nome  nota\n",
              "0  32139871   JÚLIA RONQUETTI   7.4"
            ],
            "text/html": [
              "\n",
              "  <div id=\"df-2c6f3014-10e6-4346-8561-dca8bbee774f\" class=\"colab-df-container\">\n",
              "    <div>\n",
              "<style scoped>\n",
              "    .dataframe tbody tr th:only-of-type {\n",
              "        vertical-align: middle;\n",
              "    }\n",
              "\n",
              "    .dataframe tbody tr th {\n",
              "        vertical-align: top;\n",
              "    }\n",
              "\n",
              "    .dataframe thead th {\n",
              "        text-align: right;\n",
              "    }\n",
              "</style>\n",
              "<table border=\"1\" class=\"dataframe\">\n",
              "  <thead>\n",
              "    <tr style=\"text-align: right;\">\n",
              "      <th></th>\n",
              "      <th>tia</th>\n",
              "      <th>nome</th>\n",
              "      <th>nota</th>\n",
              "    </tr>\n",
              "  </thead>\n",
              "  <tbody>\n",
              "    <tr>\n",
              "      <th>0</th>\n",
              "      <td>32139871</td>\n",
              "      <td>JÚLIA RONQUETTI</td>\n",
              "      <td>7.4</td>\n",
              "    </tr>\n",
              "  </tbody>\n",
              "</table>\n",
              "</div>\n",
              "    <div class=\"colab-df-buttons\">\n",
              "\n",
              "  <div class=\"colab-df-container\">\n",
              "    <button class=\"colab-df-convert\" onclick=\"convertToInteractive('df-2c6f3014-10e6-4346-8561-dca8bbee774f')\"\n",
              "            title=\"Convert this dataframe to an interactive table.\"\n",
              "            style=\"display:none;\">\n",
              "\n",
              "  <svg xmlns=\"http://www.w3.org/2000/svg\" height=\"24px\" viewBox=\"0 -960 960 960\">\n",
              "    <path d=\"M120-120v-720h720v720H120Zm60-500h600v-160H180v160Zm220 220h160v-160H400v160Zm0 220h160v-160H400v160ZM180-400h160v-160H180v160Zm440 0h160v-160H620v160ZM180-180h160v-160H180v160Zm440 0h160v-160H620v160Z\"/>\n",
              "  </svg>\n",
              "    </button>\n",
              "\n",
              "  <style>\n",
              "    .colab-df-container {\n",
              "      display:flex;\n",
              "      gap: 12px;\n",
              "    }\n",
              "\n",
              "    .colab-df-convert {\n",
              "      background-color: #E8F0FE;\n",
              "      border: none;\n",
              "      border-radius: 50%;\n",
              "      cursor: pointer;\n",
              "      display: none;\n",
              "      fill: #1967D2;\n",
              "      height: 32px;\n",
              "      padding: 0 0 0 0;\n",
              "      width: 32px;\n",
              "    }\n",
              "\n",
              "    .colab-df-convert:hover {\n",
              "      background-color: #E2EBFA;\n",
              "      box-shadow: 0px 1px 2px rgba(60, 64, 67, 0.3), 0px 1px 3px 1px rgba(60, 64, 67, 0.15);\n",
              "      fill: #174EA6;\n",
              "    }\n",
              "\n",
              "    .colab-df-buttons div {\n",
              "      margin-bottom: 4px;\n",
              "    }\n",
              "\n",
              "    [theme=dark] .colab-df-convert {\n",
              "      background-color: #3B4455;\n",
              "      fill: #D2E3FC;\n",
              "    }\n",
              "\n",
              "    [theme=dark] .colab-df-convert:hover {\n",
              "      background-color: #434B5C;\n",
              "      box-shadow: 0px 1px 3px 1px rgba(0, 0, 0, 0.15);\n",
              "      filter: drop-shadow(0px 1px 2px rgba(0, 0, 0, 0.3));\n",
              "      fill: #FFFFFF;\n",
              "    }\n",
              "  </style>\n",
              "\n",
              "    <script>\n",
              "      const buttonEl =\n",
              "        document.querySelector('#df-2c6f3014-10e6-4346-8561-dca8bbee774f button.colab-df-convert');\n",
              "      buttonEl.style.display =\n",
              "        google.colab.kernel.accessAllowed ? 'block' : 'none';\n",
              "\n",
              "      async function convertToInteractive(key) {\n",
              "        const element = document.querySelector('#df-2c6f3014-10e6-4346-8561-dca8bbee774f');\n",
              "        const dataTable =\n",
              "          await google.colab.kernel.invokeFunction('convertToInteractive',\n",
              "                                                    [key], {});\n",
              "        if (!dataTable) return;\n",
              "\n",
              "        const docLinkHtml = 'Like what you see? Visit the ' +\n",
              "          '<a target=\"_blank\" href=https://colab.research.google.com/notebooks/data_table.ipynb>data table notebook</a>'\n",
              "          + ' to learn more about interactive tables.';\n",
              "        element.innerHTML = '';\n",
              "        dataTable['output_type'] = 'display_data';\n",
              "        await google.colab.output.renderOutput(dataTable, element);\n",
              "        const docLink = document.createElement('div');\n",
              "        docLink.innerHTML = docLinkHtml;\n",
              "        element.appendChild(docLink);\n",
              "      }\n",
              "    </script>\n",
              "  </div>\n",
              "\n",
              "\n",
              "  <div id=\"id_8590f439-ee80-4090-8c8d-835713fc7415\">\n",
              "    <style>\n",
              "      .colab-df-generate {\n",
              "        background-color: #E8F0FE;\n",
              "        border: none;\n",
              "        border-radius: 50%;\n",
              "        cursor: pointer;\n",
              "        display: none;\n",
              "        fill: #1967D2;\n",
              "        height: 32px;\n",
              "        padding: 0 0 0 0;\n",
              "        width: 32px;\n",
              "      }\n",
              "\n",
              "      .colab-df-generate:hover {\n",
              "        background-color: #E2EBFA;\n",
              "        box-shadow: 0px 1px 2px rgba(60, 64, 67, 0.3), 0px 1px 3px 1px rgba(60, 64, 67, 0.15);\n",
              "        fill: #174EA6;\n",
              "      }\n",
              "\n",
              "      [theme=dark] .colab-df-generate {\n",
              "        background-color: #3B4455;\n",
              "        fill: #D2E3FC;\n",
              "      }\n",
              "\n",
              "      [theme=dark] .colab-df-generate:hover {\n",
              "        background-color: #434B5C;\n",
              "        box-shadow: 0px 1px 3px 1px rgba(0, 0, 0, 0.15);\n",
              "        filter: drop-shadow(0px 1px 2px rgba(0, 0, 0, 0.3));\n",
              "        fill: #FFFFFF;\n",
              "      }\n",
              "    </style>\n",
              "    <button class=\"colab-df-generate\" onclick=\"generateWithVariable('alunos')\"\n",
              "            title=\"Generate code using this dataframe.\"\n",
              "            style=\"display:none;\">\n",
              "\n",
              "  <svg xmlns=\"http://www.w3.org/2000/svg\" height=\"24px\"viewBox=\"0 0 24 24\"\n",
              "       width=\"24px\">\n",
              "    <path d=\"M7,19H8.4L18.45,9,17,7.55,7,17.6ZM5,21V16.75L18.45,3.32a2,2,0,0,1,2.83,0l1.4,1.43a1.91,1.91,0,0,1,.58,1.4,1.91,1.91,0,0,1-.58,1.4L9.25,21ZM18.45,9,17,7.55Zm-12,3A5.31,5.31,0,0,0,4.9,8.1,5.31,5.31,0,0,0,1,6.5,5.31,5.31,0,0,0,4.9,4.9,5.31,5.31,0,0,0,6.5,1,5.31,5.31,0,0,0,8.1,4.9,5.31,5.31,0,0,0,12,6.5,5.46,5.46,0,0,0,6.5,12Z\"/>\n",
              "  </svg>\n",
              "    </button>\n",
              "    <script>\n",
              "      (() => {\n",
              "      const buttonEl =\n",
              "        document.querySelector('#id_8590f439-ee80-4090-8c8d-835713fc7415 button.colab-df-generate');\n",
              "      buttonEl.style.display =\n",
              "        google.colab.kernel.accessAllowed ? 'block' : 'none';\n",
              "\n",
              "      buttonEl.onclick = () => {\n",
              "        google.colab.notebook.generateWithVariable('alunos');\n",
              "      }\n",
              "      })();\n",
              "    </script>\n",
              "  </div>\n",
              "\n",
              "    </div>\n",
              "  </div>\n"
            ],
            "application/vnd.google.colaboratory.intrinsic+json": {
              "type": "dataframe",
              "variable_name": "alunos",
              "summary": "{\n  \"name\": \"alunos\",\n  \"rows\": 1,\n  \"fields\": [\n    {\n      \"column\": \"tia\",\n      \"properties\": {\n        \"dtype\": \"string\",\n        \"num_unique_values\": 1,\n        \"samples\": [\n          \"32139871\"\n        ],\n        \"semantic_type\": \"\",\n        \"description\": \"\"\n      }\n    },\n    {\n      \"column\": \"nome\",\n      \"properties\": {\n        \"dtype\": \"string\",\n        \"num_unique_values\": 1,\n        \"samples\": [\n          \" J\\u00daLIA RONQUETTI\"\n        ],\n        \"semantic_type\": \"\",\n        \"description\": \"\"\n      }\n    },\n    {\n      \"column\": \"nota\",\n      \"properties\": {\n        \"dtype\": \"number\",\n        \"std\": null,\n        \"min\": 7.4,\n        \"max\": 7.4,\n        \"num_unique_values\": 1,\n        \"samples\": [\n          7.4\n        ],\n        \"semantic_type\": \"\",\n        \"description\": \"\"\n      }\n    }\n  ]\n}"
            }
          },
          "metadata": {}
        }
      ]
    }
  ]
}